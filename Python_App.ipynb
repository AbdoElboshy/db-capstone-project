{
 "cells": [
  {
   "cell_type": "code",
   "execution_count": null,
   "id": "cf36864a-7f1e-49ba-8e6a-3e451ef9a5ac",
   "metadata": {},
   "outputs": [],
   "source": [
    "import mysql.connector as connector "
   ]
  },
  {
   "cell_type": "code",
   "execution_count": null,
   "id": "d534c5db-40d9-44b9-bf1a-a9ece22e02e4",
   "metadata": {},
   "outputs": [],
   "source": [
    "connection = connector.connect(username='root', password='1243', db='littlelemondb')"
   ]
  },
  {
   "cell_type": "code",
   "execution_count": null,
   "id": "fe2eab9b-024c-47fd-b6fd-f930fe551835",
   "metadata": {},
   "outputs": [],
   "source": [
    "cursor = connection.cursor()"
   ]
  },
  {
   "cell_type": "code",
   "execution_count": null,
   "id": "ffd90b56-d464-457c-be22-723a81d16cde",
   "metadata": {},
   "outputs": [],
   "source": [
    "show_tables_query = \"SHOW tables\"\n",
    "cursor.execute(show_tables_query)"
   ]
  },
  {
   "cell_type": "code",
   "execution_count": null,
   "id": "439a626c-1acc-42ec-a811-77d018dcc1d3",
   "metadata": {},
   "outputs": [],
   "source": [
    "for result in cursor.fetchall():\n",
    "    print(result)"
   ]
  },
  {
   "cell_type": "code",
   "execution_count": null,
   "id": "089597bc-dcec-4978-8219-34cec120f918",
   "metadata": {},
   "outputs": [],
   "source": [
    "cursor.execute(\"USE LittleLemonDB\")\n",
    "\n",
    "creating_joins = \"\"\"\n",
    "SELECT customers.Customer_name, \n",
    "customers.contact_number, \n",
    "orders.TotalCost\n",
    "FROM customers\n",
    "INNER JOIN orders ON customers.customerID = orders.customers_customerID\n",
    "WHERE orders.TotalCost > 60; \"\"\"\n",
    "\n",
    "cursor.execute(creating_joins)\n",
    "results =cursor.fetchall()\n",
    "print(cursor.column_names)\n",
    "print(results)\n"
   ]
  },
  {
   "cell_type": "code",
   "execution_count": null,
   "id": "2417e840-0972-4bec-a8fc-99d0c3a16529",
   "metadata": {},
   "outputs": [],
   "source": []
  }
 ],
 "metadata": {
  "kernelspec": {
   "display_name": "Python 3 (ipykernel)",
   "language": "python",
   "name": "python3"
  },
  "language_info": {
   "codemirror_mode": {
    "name": "ipython",
    "version": 3
   },
   "file_extension": ".py",
   "mimetype": "text/x-python",
   "name": "python",
   "nbconvert_exporter": "python",
   "pygments_lexer": "ipython3",
   "version": "3.11.6"
  }
 },
 "nbformat": 4,
 "nbformat_minor": 5
}
